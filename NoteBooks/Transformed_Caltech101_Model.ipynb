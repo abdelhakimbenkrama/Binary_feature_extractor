{
 "nbformat": 4,
 "nbformat_minor": 0,
 "metadata": {
  "colab": {
   "name": "InceptionV3.ipynb",
   "provenance": [],
   "machine_shape": "hm"
  },
  "kernelspec": {
   "name": "python3",
   "display_name": "Python 3"
  },
  "accelerator": "GPU",
  "pycharm": {
   "stem_cell": {
    "cell_type": "raw",
    "source": [],
    "metadata": {
     "collapsed": false
    }
   }
  }
 },
 "cells": [
  {
   "cell_type": "code",
   "metadata": {
    "id": "OOMSPo-zX8lJ",
    "colab_type": "code",
    "colab": {}
   },
   "source": [
    "# For downloading dataset\n",
    "from urllib.request import urlretrieve\n",
    "import os\n",
    "\n",
    "# For extracting dataset\n",
    "import tarfile\n",
    "\n",
    "# For reading images\n",
    "import cv2\n",
    "\n",
    "# Essentials :)\n",
    "import numpy as np\n",
    "\n",
    "# pretty printing python objects\n",
    "import pprint\n",
    "\n",
    "# for sorting dictionary by value\n",
    "import operator\n",
    "\n",
    "# for showing images inline\n",
    "from matplotlib.pyplot import imshow \n",
    "%matplotlib inline \n",
    "\n",
    "# for making labels one-hot encoded\n",
    "from sklearn.preprocessing import LabelEncoder\n",
    "from keras.utils import to_categorical\n",
    "\n",
    "# for splitting data into training and validation data\n",
    "from sklearn.model_selection import train_test_split\n",
    "\n",
    "# for CNN and NN models\n",
    "from keras.models import Sequential, Model\n",
    "from keras.layers import Conv2D, Input, Dropout, Activation, Dense, MaxPooling2D, Flatten, GlobalAveragePooling2D\n",
    "from keras.optimizers import Adadelta\n",
    "from keras.callbacks import ModelCheckpoint\n",
    "from keras.callbacks import EarlyStopping\n",
    "from keras.models import load_model\n",
    "\n",
    "# For transfer learning\n",
    "from keras.applications.inception_v3 import InceptionV3\n",
    "\n",
    "# to save models\n",
    "import json\n",
    "\n",
    "# for saving environment of notebook\n",
    "import dill\n",
    "\n",
    "# for printing size each variable is using\n",
    "import sys"
   ],
   "execution_count": null,
   "outputs": []
  },
  {
   "cell_type": "code",
   "metadata": {
    "id": "SEdVX2D-YTYH",
    "colab_type": "code",
    "colab": {}
   },
   "source": [
    "link1 = \"/content/drive/My Drive/2D_images_dataset_FE_no_scale_P1\"\n",
    "link2 = \"/content/drive/My Drive/2D_images_dataset_FE_no_scale_P2\"\n",
    "link3 = \"/content/drive/My Drive/2D_images_dataset_FE_no_scale_P3\"\n",
    "links=[link1,link2,link3]"
   ],
   "execution_count": null,
   "outputs": []
  },
  {
   "cell_type": "code",
   "metadata": {
    "id": "CyqvtjR8e55t",
    "colab_type": "code",
    "colab": {}
   },
   "source": [
    "def return_images_per_category(data_directory):\n",
    "    categories = os.listdir(data_directory)\n",
    "    object_images_count_dict = {}\n",
    "    for category in categories:\n",
    "        object_images_count_dict[category] = len(os.listdir(data_directory+'/'+category))\n",
    "    object_images_count_dict = sorted(object_images_count_dict.items(), key=operator.itemgetter(1), reverse=True)\n",
    "    return object_images_count_dict"
   ],
   "execution_count": null,
   "outputs": []
  },
  {
   "cell_type": "code",
   "metadata": {
    "id": "USOJ9Fete7Sy",
    "colab_type": "code",
    "colab": {
     "base_uri": "https://localhost:8080/",
     "height": 34
    },
    "outputId": "00f9b7e0-71df-449f-a1ae-9eeb57219752"
   },
   "source": [
    "!pip install patool"
   ],
   "execution_count": null,
   "outputs": [
    {
     "output_type": "stream",
     "text": [
      "Requirement already satisfied: patool in /usr/local/lib/python3.6/dist-packages (1.12)\n"
     ],
     "name": "stdout"
    }
   ]
  },
  {
   "cell_type": "code",
   "metadata": {
    "id": "AFfeh17rfIqP",
    "colab_type": "code",
    "colab": {
     "base_uri": "https://localhost:8080/",
     "height": 241
    },
    "outputId": "dcaf5a9c-b62a-4404-9e66-fd2e464d7236"
   },
   "source": [
    "import patoolib\n",
    "for link in links:\n",
    "  patoolib.extract_archive(link+\".rar\")"
   ],
   "execution_count": null,
   "outputs": [
    {
     "output_type": "stream",
     "text": [
      "patool: Extracting /content/drive/My Drive/2D_images_dataset_FE_no_scale_P1.rar ...\n",
      "patool: running /usr/bin/unrar x -- \"/content/drive/My Drive/2D_images_dataset_FE_no_scale_P1.rar\"\n",
      "patool:     with cwd='./Unpack_ybj2l9jh'\n",
      "patool: ... /content/drive/My Drive/2D_images_dataset_FE_no_scale_P1.rar extracted to `2D_images_dataset_FE_no_scale_P11' (multiple files in root).\n",
      "patool: Extracting /content/drive/My Drive/2D_images_dataset_FE_no_scale_P2.rar ...\n",
      "patool: running /usr/bin/unrar x -- \"/content/drive/My Drive/2D_images_dataset_FE_no_scale_P2.rar\"\n",
      "patool:     with cwd='./Unpack_z6hohgo8'\n",
      "patool: ... /content/drive/My Drive/2D_images_dataset_FE_no_scale_P2.rar extracted to `2D_images_dataset_FE_no_scale_P21' (multiple files in root).\n",
      "patool: Extracting /content/drive/My Drive/2D_images_dataset_FE_no_scale_P3.rar ...\n",
      "patool: running /usr/bin/unrar x -- \"/content/drive/My Drive/2D_images_dataset_FE_no_scale_P3.rar\"\n",
      "patool:     with cwd='./Unpack_g11e23yx'\n",
      "patool: ... /content/drive/My Drive/2D_images_dataset_FE_no_scale_P3.rar extracted to `2D_images_dataset_FE_no_scale_P31' (multiple files in root).\n"
     ],
     "name": "stdout"
    }
   ]
  },
  {
   "cell_type": "code",
   "metadata": {
    "id": "6E1dk8FSfQa-",
    "colab_type": "code",
    "colab": {}
   },
   "source": [
    "return_images_per_category(link)"
   ],
   "execution_count": null,
   "outputs": []
  },
  {
   "cell_type": "code",
   "metadata": {
    "id": "rtCFr7fbe_j9",
    "colab_type": "code",
    "colab": {}
   },
   "source": [
    "link1= \"/content/2D_images_dataset_FE_no_scale_P1\"\n",
    "link2= \"/content/2D_images_dataset_FE_no_scale_P2\"\n",
    "link3= \"/content/2D_images_dataset_FE_no_scale_P3\"\n",
    "links=[link1,link2,link3]"
   ],
   "execution_count": null,
   "outputs": []
  },
  {
   "cell_type": "code",
   "metadata": {
    "id": "zOD2by9kfv90",
    "colab_type": "code",
    "colab": {
     "base_uri": "https://localhost:8080/",
     "height": 34
    },
    "outputId": "9544fd2b-a440-4873-85aa-45a55bbd81ee"
   },
   "source": [
    "total_count = 0\n",
    "for link in links:\n",
    "  for category,count in return_images_per_category(link):\n",
    "      if category == 'BACKGROUND_Google':\n",
    "          continue;\n",
    "      total_count += count\n",
    "print(\"Total number of images in training data : \",total_count)"
   ],
   "execution_count": null,
   "outputs": [
    {
     "output_type": "stream",
     "text": [
      "Total number of images in training data :  8678\n"
     ],
     "name": "stdout"
    }
   ]
  },
  {
   "cell_type": "code",
   "metadata": {
    "id": "ipbpM4e8gKvS",
    "colab_type": "code",
    "colab": {}
   },
   "source": [
    "def get_images(object_category, data_directory):\n",
    "    if (not os.path.exists(data_directory)):\n",
    "        print(\"Data directory not found. Are you sure you downloaded and extracted dataset properly?\")\n",
    "        return\n",
    "    obj_category_dir = os.path.join(data_directory, object_category)\n",
    "    images = [os.path.join(obj_category_dir,img) for img in os.listdir(obj_category_dir)]\n",
    "    return images\n",
    "\n",
    "def read_image(image_path):\n",
    "    \"\"\"Read and resize individual images - Caltech 101 avg size of image is 300x200, so we resize accordingly\"\"\"\n",
    "    img = cv2.imread(image_path, cv2.IMREAD_COLOR)\n",
    "    img = cv2.resize(img, (300,200), interpolation=cv2.INTER_CUBIC)\n",
    "    return img"
   ],
   "execution_count": null,
   "outputs": []
  },
  {
   "cell_type": "code",
   "metadata": {
    "id": "jpqMBrROf6GK",
    "colab_type": "code",
    "colab": {}
   },
   "source": [
    "\n",
    "def create_training_data(data_directory):\n",
    "    i = 0\n",
    "    X = np.ndarray((8677, 200, 300, 3), dtype=np.uint8)\n",
    "    Y = []\n",
    "    print(\"Preparing X and Y for dataset...\")\n",
    "    for link in links:\n",
    "      for category,_ in return_images_per_category(link):\n",
    "          if category == 'BACKGROUND_Google':\n",
    "              continue\n",
    "          for image in get_images(category, link):\n",
    "              if not image.endswith('.jpg'):\n",
    "                  # to escape hidden ipynb checkpoints and other unnecessary files \n",
    "                  continue\n",
    "              X[i] = read_image(image)\n",
    "              Y.insert(i,category) \n",
    "              i += 1\n",
    "    print(\"Datasets constructed\")\n",
    "    return X,Y"
   ],
   "execution_count": null,
   "outputs": []
  },
  {
   "cell_type": "code",
   "metadata": {
    "id": "Os2XpmKvf7yV",
    "colab_type": "code",
    "colab": {
     "base_uri": "https://localhost:8080/",
     "height": 85
    },
    "outputId": "d8e175b1-f7dc-41e3-d964-664010a80abb"
   },
   "source": [
    "X, Y = create_training_data(link)\n",
    "print(X.shape)\n",
    "print(len(Y))"
   ],
   "execution_count": null,
   "outputs": [
    {
     "output_type": "stream",
     "text": [
      "Preparing X and Y for dataset...\n",
      "Datasets constructed\n",
      "(8677, 200, 300, 3)\n",
      "8677\n"
     ],
     "name": "stdout"
    }
   ]
  },
  {
   "cell_type": "code",
   "metadata": {
    "id": "k_nfR6b6gvgI",
    "colab_type": "code",
    "colab": {}
   },
   "source": [
    "label_encoder = LabelEncoder()\n",
    "Y_integer_encoded = label_encoder.fit_transform(Y)"
   ],
   "execution_count": null,
   "outputs": []
  },
  {
   "cell_type": "code",
   "metadata": {
    "id": "hTKcTZ5hg-Sw",
    "colab_type": "code",
    "colab": {
     "base_uri": "https://localhost:8080/",
     "height": 34
    },
    "outputId": "ee016f8f-acef-4ac3-b3a9-71356b176c6f"
   },
   "source": [
    "Y_one_hot = to_categorical(Y_integer_encoded)\n",
    "print(Y_one_hot.shape)\n"
   ],
   "execution_count": null,
   "outputs": [
    {
     "output_type": "stream",
     "text": [
      "(8677, 101)\n"
     ],
     "name": "stdout"
    }
   ]
  },
  {
   "cell_type": "code",
   "metadata": {
    "id": "jnjPOOPqhHZu",
    "colab_type": "code",
    "colab": {
     "base_uri": "https://localhost:8080/",
     "height": 34
    },
    "outputId": "34acc628-aa0b-40cc-b075-94e205f42b57"
   },
   "source": [
    "X_normalized = X.astype(np.float32) / 255\n",
    "print(X_normalized.shape)"
   ],
   "execution_count": null,
   "outputs": [
    {
     "output_type": "stream",
     "text": [
      "(8677, 200, 300, 3)\n"
     ],
     "name": "stdout"
    }
   ]
  },
  {
   "cell_type": "code",
   "metadata": {
    "id": "0eEIziUJh4uj",
    "colab_type": "code",
    "colab": {
     "base_uri": "https://localhost:8080/",
     "height": 68
    },
    "outputId": "57901c7c-f531-4b95-99e5-60b6ac574768"
   },
   "source": [
    "X_train, X_test, Y_train, Y_test = train_test_split(X_normalized, Y_one_hot, test_size=0.25, random_state=42)\n",
    "index = int((len(X_train)*21) / 100)\n",
    "X_validation =  X_train[-index:]\n",
    "Y_validation =  Y_train[-index:]\n",
    "X_train = X_train[:-index]\n",
    "Y_train= Y_train[:-index]\n",
    "print(len(X_train))\n",
    "print(len(X_test))\n",
    "len(X_validation)"
   ],
   "execution_count": null,
   "outputs": [
    {
     "output_type": "stream",
     "text": [
      "5141\n",
      "2170\n"
     ],
     "name": "stdout"
    },
    {
     "output_type": "execute_result",
     "data": {
      "text/plain": [
       "1366"
      ]
     },
     "metadata": {
      "tags": []
     },
     "execution_count": 49
    }
   ]
  },
  {
   "cell_type": "code",
   "metadata": {
    "id": "Rw0bPjFgqUig",
    "colab_type": "code",
    "colab": {
     "base_uri": "https://localhost:8080/",
     "height": 51
    },
    "outputId": "6bfa31ef-b7ef-4f43-c371-d60a3663b02b"
   },
   "source": [
    "from keras.applications.vgg16 import VGG16\n",
    "\n",
    "base_model = VGG16(weights='imagenet', include_top=False)\n",
    "\n",
    "transfer_learning_arch = base_model.output\n",
    "transfer_learning_arch = GlobalAveragePooling2D()(transfer_learning_arch)\n",
    "transfer_learning_arch = Dense(1024, activation='relu')(transfer_learning_arch)\n",
    "transfer_learning_arch = Dropout(0.4)(transfer_learning_arch)\n",
    "transfer_learning_arch = Dense(512, activation='relu')(transfer_learning_arch)\n",
    "transfer_learning_arch = Dropout(0.4)(transfer_learning_arch)\n",
    "predictions = Dense(101, activation='softmax')(transfer_learning_arch)\n",
    "\n",
    "transfer_learning_model = Model(inputs=base_model.input, outputs=predictions)\n",
    "# incomment if Model is InceptionV3\n",
    "# for layer in transfer_learning_model.layers[:280]:\n",
    "#     layer.trainable = False\n",
    "# for layer in transfer_learning_model.layers[280:]:\n",
    "#     layer.trainable = True\n",
    "\n",
    "## incomment if Model is VGG16\n",
    "for layer in transfer_learning_model.layers[:19]:\n",
    "    layer.trainable = False\n",
    "for layer in transfer_learning_model.layers[19:]:\n",
    "    layer.trainable = True"
   ],
   "execution_count": null,
   "outputs": [
    {
     "output_type": "stream",
     "text": [
      "Downloading data from https://github.com/fchollet/deep-learning-models/releases/download/v0.1/vgg16_weights_tf_dim_ordering_tf_kernels_notop.h5\n",
      "58892288/58889256 [==============================] - 6s 0us/step\n"
     ],
     "name": "stdout"
    }
   ]
  },
  {
   "cell_type": "code",
   "metadata": {
    "id": "OunrUtCRqW1u",
    "colab_type": "code",
    "colab": {}
   },
   "source": [
    "\n",
    "opt=Adadelta(lr=1.0, rho=0.9, epsilon=1e-08, decay=0.0)\n",
    "from keras.optimizers import SGD\n",
    "opt = SGD(lr=0.01, momentum=0.9, decay=0.01)\n",
    "transfer_learning_model.compile(loss='categorical_crossentropy', optimizer=opt, metrics=['accuracy'])"
   ],
   "execution_count": null,
   "outputs": []
  },
  {
   "cell_type": "code",
   "metadata": {
    "id": "cGJCwMe-cjcL",
    "colab_type": "code",
    "colab": {
     "base_uri": "https://localhost:8080/",
     "height": 391
    },
    "outputId": "03154a1e-dbcc-4fcf-f34b-194d001cf93d"
   },
   "source": [
    "transfer_learning_model.fit(X_train, Y_train, batch_size=10, epochs=10, verbose=1, validation_data=(X_validation,Y_validation))"
   ],
   "execution_count": null,
   "outputs": [
    {
     "output_type": "stream",
     "text": [
      "Train on 5141 samples, validate on 1366 samples\n",
      "Epoch 1/10\n",
      "5141/5141 [==============================] - 30s 6ms/step - loss: 4.7128 - accuracy: 0.1120 - val_loss: 3.8708 - val_accuracy: 0.1962\n",
      "Epoch 2/10\n",
      "5141/5141 [==============================] - 30s 6ms/step - loss: 3.8442 - accuracy: 0.1681 - val_loss: 3.5097 - val_accuracy: 0.2372\n",
      "Epoch 3/10\n",
      "5141/5141 [==============================] - 30s 6ms/step - loss: 3.6586 - accuracy: 0.1937 - val_loss: 3.4212 - val_accuracy: 0.2972\n",
      "Epoch 4/10\n",
      "5141/5141 [==============================] - 30s 6ms/step - loss: 3.5546 - accuracy: 0.2091 - val_loss: 3.3588 - val_accuracy: 0.2980\n",
      "Epoch 5/10\n",
      "5141/5141 [==============================] - 30s 6ms/step - loss: 3.5119 - accuracy: 0.2165 - val_loss: 3.2917 - val_accuracy: 0.3009\n",
      "Epoch 6/10\n",
      "5141/5141 [==============================] - 30s 6ms/step - loss: 3.4530 - accuracy: 0.2243 - val_loss: 3.1931 - val_accuracy: 0.3192\n",
      "Epoch 7/10\n",
      "5141/5141 [==============================] - 30s 6ms/step - loss: 3.4203 - accuracy: 0.2379 - val_loss: 3.1414 - val_accuracy: 0.3177\n",
      "Epoch 8/10\n",
      "5141/5141 [==============================] - 30s 6ms/step - loss: 3.3816 - accuracy: 0.2408 - val_loss: 3.1883 - val_accuracy: 0.3243\n",
      "Epoch 9/10\n",
      "5141/5141 [==============================] - 30s 6ms/step - loss: 3.4148 - accuracy: 0.2301 - val_loss: 3.1800 - val_accuracy: 0.3104\n",
      "Epoch 10/10\n",
      "5141/5141 [==============================] - 30s 6ms/step - loss: 3.3604 - accuracy: 0.2412 - val_loss: 3.0819 - val_accuracy: 0.3316\n"
     ],
     "name": "stdout"
    },
    {
     "output_type": "execute_result",
     "data": {
      "text/plain": [
       "<keras.callbacks.callbacks.History at 0x7f538df20d30>"
      ]
     },
     "metadata": {
      "tags": []
     },
     "execution_count": 61
    }
   ]
  },
  {
   "cell_type": "code",
   "metadata": {
    "id": "_y9tCO80m8NH",
    "colab_type": "code",
    "colab": {
     "base_uri": "https://localhost:8080/",
     "height": 85
    },
    "outputId": "7a2f1ff9-0322-4339-91aa-9ce5190c7663"
   },
   "source": [
    "print('\\n# Evaluate on test data')\n",
    "results = transfer_learning_model.evaluate(X_test, Y_test, batch_size=5)\n",
    "print('test loss, test acc:', results)"
   ],
   "execution_count": null,
   "outputs": [
    {
     "output_type": "stream",
     "text": [
      "\n",
      "# Evaluate on test data\n",
      "2170/2170 [==============================] - 13s 6ms/step\n",
      "test loss, test acc: [1.7326678833963423, 0.5981566905975342]\n"
     ],
     "name": "stdout"
    }
   ]
  }
 ]
}